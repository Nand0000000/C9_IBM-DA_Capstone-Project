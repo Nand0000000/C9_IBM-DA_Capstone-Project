{
 "cells": [
  {
   "cell_type": "markdown",
   "metadata": {},
   "source": [
    "<p style=\"text-align:center\">\n",
    "    <a href=\"https://skills.network/?utm_medium=Exinfluencer&utm_source=Exinfluencer&utm_content=000026UJ&utm_term=10006555&utm_id=NA-SkillsNetwork-Channel-SkillsNetworkCoursesIBMDA0321ENSkillsNetwork928-2022-01-01\" target=\"_blank\">\n",
    "    <img src=\"https://cf-courses-data.s3.us.cloud-object-storage.appdomain.cloud/assets/logos/SN_web_lightmode.png\" width=\"200\" alt=\"Skills Network Logo\"  />\n",
    "    </a>\n",
    "</p>\n"
   ]
  },
  {
   "cell_type": "markdown",
   "metadata": {},
   "source": [
    "# **Survey Dataset Exploration Lab**\n"
   ]
  },
  {
   "cell_type": "markdown",
   "metadata": {},
   "source": [
    "Estimated time needed: **30** minutes\n"
   ]
  },
  {
   "cell_type": "markdown",
   "metadata": {},
   "source": [
    "## Objectives\n"
   ]
  },
  {
   "cell_type": "markdown",
   "metadata": {},
   "source": [
    "After completing this lab you will be able to:\n"
   ]
  },
  {
   "cell_type": "markdown",
   "metadata": {},
   "source": [
    "-   Load the dataset that will used thru the capstone project.\n",
    "-   Explore the dataset.\n",
    "-   Get familier with the data types.\n"
   ]
  },
  {
   "cell_type": "markdown",
   "metadata": {},
   "source": [
    "## Load the dataset\n"
   ]
  },
  {
   "cell_type": "markdown",
   "metadata": {},
   "source": [
    "Import the required libraries.\n"
   ]
  },
  {
   "cell_type": "code",
   "execution_count": 8,
   "metadata": {},
   "outputs": [],
   "source": [
    "import pandas as pd"
   ]
  },
  {
   "cell_type": "markdown",
   "metadata": {},
   "source": [
    "The dataset is available on the IBM Cloud at the below url.\n"
   ]
  },
  {
   "cell_type": "code",
   "execution_count": 9,
   "metadata": {},
   "outputs": [],
   "source": [
    "dataset_url = \"https://cf-courses-data.s3.us.cloud-object-storage.appdomain.cloud/IBM-DA0321EN-SkillsNetwork/LargeData/m1_survey_data.csv\""
   ]
  },
  {
   "cell_type": "markdown",
   "metadata": {},
   "source": [
    "Load the data available at dataset_url into a dataframe.\n"
   ]
  },
  {
   "cell_type": "code",
   "execution_count": 10,
   "metadata": {},
   "outputs": [],
   "source": [
    "# your code goes here\n",
    "df = pd.read_csv(dataset_url) "
   ]
  },
  {
   "cell_type": "markdown",
   "metadata": {},
   "source": [
    "## Explore the data set\n"
   ]
  },
  {
   "cell_type": "markdown",
   "metadata": {},
   "source": [
    "It is a good idea to print the top 5 rows of the dataset to get a feel of how the dataset will look.\n"
   ]
  },
  {
   "cell_type": "markdown",
   "metadata": {},
   "source": [
    "Display the top 5 rows and columns from your dataset.\n"
   ]
  },
  {
   "cell_type": "code",
   "execution_count": 11,
   "metadata": {},
   "outputs": [
    {
     "name": "stdout",
     "output_type": "stream",
     "text": [
      "   Respondent                      MainBranch Hobbyist  \\\n",
      "0           4  I am a developer by profession       No   \n",
      "1           9  I am a developer by profession      Yes   \n",
      "2          13  I am a developer by profession      Yes   \n",
      "3          16  I am a developer by profession      Yes   \n",
      "4          17  I am a developer by profession      Yes   \n",
      "\n",
      "                                         OpenSourcer  \\\n",
      "0                                              Never   \n",
      "1                         Once a month or more often   \n",
      "2  Less than once a month but more than once per ...   \n",
      "3                                              Never   \n",
      "4  Less than once a month but more than once per ...   \n",
      "\n",
      "                                          OpenSource          Employment  \\\n",
      "0  The quality of OSS and closed source software ...  Employed full-time   \n",
      "1  The quality of OSS and closed source software ...  Employed full-time   \n",
      "2  OSS is, on average, of HIGHER quality than pro...  Employed full-time   \n",
      "3  The quality of OSS and closed source software ...  Employed full-time   \n",
      "4  The quality of OSS and closed source software ...  Employed full-time   \n",
      "\n",
      "          Country Student                                            EdLevel  \\\n",
      "0   United States      No           Bachelor’s degree (BA, BS, B.Eng., etc.)   \n",
      "1     New Zealand      No  Some college/university study without earning ...   \n",
      "2   United States      No        Master’s degree (MA, MS, M.Eng., MBA, etc.)   \n",
      "3  United Kingdom      No        Master’s degree (MA, MS, M.Eng., MBA, etc.)   \n",
      "4       Australia      No           Bachelor’s degree (BA, BS, B.Eng., etc.)   \n",
      "\n",
      "                                      UndergradMajor  ...  \\\n",
      "0  Computer science, computer engineering, or sof...  ...   \n",
      "1  Computer science, computer engineering, or sof...  ...   \n",
      "2  Computer science, computer engineering, or sof...  ...   \n",
      "3                                                NaN  ...   \n",
      "4  Computer science, computer engineering, or sof...  ...   \n",
      "\n",
      "                              WelcomeChange  \\\n",
      "0   Just as welcome now as I felt last year   \n",
      "1   Just as welcome now as I felt last year   \n",
      "2  Somewhat more welcome now than last year   \n",
      "3   Just as welcome now as I felt last year   \n",
      "4   Just as welcome now as I felt last year   \n",
      "\n",
      "                                        SONewContent   Age Gender Trans  \\\n",
      "0  Tech articles written by other developers;Indu...  22.0    Man    No   \n",
      "1                                                NaN  23.0    Man    No   \n",
      "2  Tech articles written by other developers;Cour...  28.0    Man    No   \n",
      "3  Tech articles written by other developers;Indu...  26.0    Man    No   \n",
      "4  Tech articles written by other developers;Indu...  29.0    Man    No   \n",
      "\n",
      "                 Sexuality                              Ethnicity Dependents  \\\n",
      "0  Straight / Heterosexual           White or of European descent         No   \n",
      "1                 Bisexual           White or of European descent         No   \n",
      "2  Straight / Heterosexual           White or of European descent        Yes   \n",
      "3  Straight / Heterosexual           White or of European descent         No   \n",
      "4  Straight / Heterosexual  Hispanic or Latino/Latina;Multiracial         No   \n",
      "\n",
      "            SurveyLength                  SurveyEase  \n",
      "0  Appropriate in length                        Easy  \n",
      "1  Appropriate in length  Neither easy nor difficult  \n",
      "2  Appropriate in length                        Easy  \n",
      "3  Appropriate in length  Neither easy nor difficult  \n",
      "4  Appropriate in length                        Easy  \n",
      "\n",
      "[5 rows x 85 columns]\n"
     ]
    }
   ],
   "source": [
    "# your code goes here\n",
    "\n",
    "print(df.head())"
   ]
  },
  {
   "cell_type": "markdown",
   "metadata": {},
   "source": [
    "## Find out the number of rows and columns\n"
   ]
  },
  {
   "cell_type": "markdown",
   "metadata": {},
   "source": [
    "Start by exploring the numbers of rows and columns of data in the dataset.\n"
   ]
  },
  {
   "cell_type": "markdown",
   "metadata": {},
   "source": [
    "Print the number of rows in the dataset.\n",
    "\n"
   ]
  },
  {
   "cell_type": "code",
   "execution_count": 12,
   "metadata": {},
   "outputs": [
    {
     "name": "stdout",
     "output_type": "stream",
     "text": [
      "The dataset has 11552 rows.\n"
     ]
    }
   ],
   "source": [
    "# your code goes here\n",
    "num_rows = len(df)\n",
    "print(f\"The dataset has {num_rows} rows.\") "
   ]
  },
  {
   "cell_type": "markdown",
   "metadata": {},
   "source": [
    "Print the number of columns in the dataset.\n"
   ]
  },
  {
   "cell_type": "code",
   "execution_count": 13,
   "metadata": {},
   "outputs": [
    {
     "name": "stdout",
     "output_type": "stream",
     "text": [
      "The dataset has 85 columns.\n"
     ]
    }
   ],
   "source": [
    "# your code goes here\n",
    "num_cols = len(df.columns)\n",
    "print(f\"The dataset has {num_cols} columns.\")"
   ]
  },
  {
   "cell_type": "markdown",
   "metadata": {},
   "source": [
    "## Identify the data types of each column\n"
   ]
  },
  {
   "cell_type": "markdown",
   "metadata": {},
   "source": [
    "Explore the dataset and identify the data types of each column.\n"
   ]
  },
  {
   "cell_type": "markdown",
   "metadata": {},
   "source": [
    "Print the datatype of all columns.\n"
   ]
  },
  {
   "cell_type": "code",
   "execution_count": 28,
   "metadata": {},
   "outputs": [
    {
     "name": "stdout",
     "output_type": "stream",
     "text": [
      "Respondent: int64\n",
      "MainBranch: object\n",
      "Hobbyist: object\n",
      "OpenSourcer: object\n",
      "OpenSource: object\n",
      "Employment: object\n",
      "Country: object\n",
      "Student: object\n",
      "EdLevel: object\n",
      "UndergradMajor: object\n",
      "EduOther: object\n",
      "OrgSize: object\n",
      "DevType: object\n",
      "YearsCode: object\n",
      "Age1stCode: object\n",
      "YearsCodePro: object\n",
      "CareerSat: object\n",
      "JobSat: object\n",
      "MgrIdiot: object\n",
      "MgrMoney: object\n",
      "MgrWant: object\n",
      "JobSeek: object\n",
      "LastHireDate: object\n",
      "LastInt: object\n",
      "FizzBuzz: object\n",
      "JobFactors: object\n",
      "ResumeUpdate: object\n",
      "CurrencySymbol: object\n",
      "CurrencyDesc: object\n",
      "CompTotal: float64\n",
      "CompFreq: object\n",
      "ConvertedComp: float64\n",
      "WorkWeekHrs: float64\n",
      "WorkPlan: object\n",
      "WorkChallenge: object\n",
      "WorkRemote: object\n",
      "WorkLoc: object\n",
      "ImpSyn: object\n",
      "CodeRev: object\n",
      "CodeRevHrs: float64\n",
      "UnitTests: object\n",
      "PurchaseHow: object\n",
      "PurchaseWhat: object\n",
      "LanguageWorkedWith: object\n",
      "LanguageDesireNextYear: object\n",
      "DatabaseWorkedWith: object\n",
      "DatabaseDesireNextYear: object\n",
      "PlatformWorkedWith: object\n",
      "PlatformDesireNextYear: object\n",
      "WebFrameWorkedWith: object\n",
      "WebFrameDesireNextYear: object\n",
      "MiscTechWorkedWith: object\n",
      "MiscTechDesireNextYear: object\n",
      "DevEnviron: object\n",
      "OpSys: object\n",
      "Containers: object\n",
      "BlockchainOrg: object\n",
      "BlockchainIs: object\n",
      "BetterLife: object\n",
      "ITperson: object\n",
      "OffOn: object\n",
      "SocialMedia: object\n",
      "Extraversion: object\n",
      "ScreenName: object\n",
      "SOVisit1st: object\n",
      "SOVisitFreq: object\n",
      "SOVisitTo: object\n",
      "SOFindAnswer: object\n",
      "SOTimeSaved: object\n",
      "SOHowMuchTime: object\n",
      "SOAccount: object\n",
      "SOPartFreq: object\n",
      "SOJobs: object\n",
      "EntTeams: object\n",
      "SOComm: object\n",
      "WelcomeChange: object\n",
      "SONewContent: object\n",
      "Age: float64\n",
      "Gender: object\n",
      "Trans: object\n",
      "Sexuality: object\n",
      "Ethnicity: object\n",
      "Dependents: object\n",
      "SurveyLength: object\n",
      "SurveyEase: object\n"
     ]
    }
   ],
   "source": [
    "# your code goes here\n",
    "for col in df.columns:\n",
    "  print(f\"{col}: {df[col].dtype}\") "
   ]
  },
  {
   "cell_type": "markdown",
   "metadata": {},
   "source": [
    "Print the mean age of the survey participants.\n"
   ]
  },
  {
   "cell_type": "code",
   "execution_count": null,
   "metadata": {},
   "outputs": [
    {
     "name": "stdout",
     "output_type": "stream",
     "text": [
      "The mean age of the survey participants is: 30.77239449133718\n"
     ]
    },
    {
     "data": {
      "text/plain": [
       "str"
      ]
     },
     "execution_count": 25,
     "metadata": {},
     "output_type": "execute_result"
    }
   ],
   "source": [
    "# your code goes here\n",
    "\n",
    "mean_age = df['Age'].mean()\n",
    "\n",
    "print(f\"The mean age of the survey participants is: {mean_age}\")\n",
    "\n"
   ]
  },
  {
   "cell_type": "markdown",
   "metadata": {},
   "source": [
    "The dataset is the result of a world wide survey. Print how many unique countries are there in the Country column.\n"
   ]
  },
  {
   "cell_type": "code",
   "execution_count": 18,
   "metadata": {},
   "outputs": [
    {
     "name": "stdout",
     "output_type": "stream",
     "text": [
      "There are 135 unique countries in the survey.\n"
     ]
    }
   ],
   "source": [
    "# your code goes here\n",
    "unique_countries = df['Country'].nunique()\n",
    "\n",
    "print(f\"There are {unique_countries} unique countries in the survey.\")"
   ]
  },
  {
   "cell_type": "code",
   "execution_count": null,
   "metadata": {},
   "outputs": [
    {
     "name": "stdout",
     "output_type": "stream",
     "text": [
      "['United States' 'New Zealand' 'United Kingdom' 'Australia' 'Brazil'\n",
      " 'Lithuania' 'Israel' 'South Africa' 'Czech Republic' 'Spain' 'Germany'\n",
      " 'Serbia' 'India' 'Sweden' 'China' 'France' 'Netherlands' 'Philippines'\n",
      " 'Ireland' 'Pakistan' 'Austria' 'Canada' 'Croatia' 'Italy'\n",
      " 'Russian Federation' 'Argentina' 'Romania' 'Iran' 'Hungary' 'Latvia'\n",
      " 'Hong Kong (S.A.R.)' 'United Arab Emirates' 'Poland' 'Portugal'\n",
      " 'Bulgaria' 'Nicaragua' 'Denmark' 'Japan' 'Guatemala' 'Bangladesh'\n",
      " 'Ukraine' 'Mexico' 'Egypt' 'Switzerland' 'Mauritius' 'South Korea'\n",
      " 'Slovenia' 'Estonia' 'Norway' 'Singapore' 'Republic of Moldova' 'Belgium'\n",
      " 'Nigeria' 'Turkey' 'Thailand' 'Mongolia' 'Chile' 'Malaysia' 'Georgia'\n",
      " 'Luxembourg' 'Dominican Republic' 'Cape Verde' 'Burundi' 'Finland'\n",
      " 'Greece' 'Colombia' 'Taiwan' 'Yemen' 'Indonesia' 'Belarus' 'Slovakia'\n",
      " 'Nepal' 'Kenya' 'Venezuela, Bolivarian Republic of...' 'Armenia' 'Panama'\n",
      " 'Lebanon' 'Kuwait' 'Algeria' \"Côte d'Ivoire\" 'Bosnia and Herzegovina'\n",
      " 'Brunei Darussalam' 'Costa Rica' 'Jordan' 'Zimbabwe' 'Ecuador' 'Albania'\n",
      " 'Azerbaijan' 'Other Country (Not Listed Above)' 'Uzbekistan'\n",
      " 'The former Yugoslav Republic of Macedonia' 'Sri Lanka' 'Ghana'\n",
      " 'Paraguay' 'Peru' 'Viet Nam' 'Malta' 'Rwanda' 'El Salvador' 'Uruguay'\n",
      " 'Tunisia' 'Bolivia' 'Honduras' 'Liechtenstein' 'Qatar' 'Cameroon'\n",
      " 'Turkmenistan' 'Kyrgyzstan' 'Somalia' 'Republic of Korea' 'Cuba'\n",
      " 'Montenegro' 'Monaco' 'Cyprus' 'Uganda' 'Senegal' 'Syrian Arab Republic'\n",
      " 'Morocco' 'Ethiopia' 'United Republic of Tanzania' 'Iceland' 'Swaziland'\n",
      " 'Congo, Republic of the...' 'Saudi Arabia' 'Afghanistan' 'Bahrain'\n",
      " 'Timor-Leste' 'Jamaica' 'Myanmar' 'Sudan' 'Libyan Arab Jamahiriya' 'Togo'\n",
      " 'Cambodia' 'Mozambique' 'Iraq']\n"
     ]
    }
   ],
   "source": [
    "# I added this cell \n",
    "countries_list = df['Country'].unique()\n",
    "\n",
    "print(countries_list)"
   ]
  },
  {
   "cell_type": "code",
   "execution_count": 21,
   "metadata": {},
   "outputs": [
    {
     "name": "stdout",
     "output_type": "stream",
     "text": [
      "['Afghanistan' 'Albania' 'Algeria' 'Argentina' 'Armenia' 'Australia'\n",
      " 'Austria' 'Azerbaijan' 'Bahrain' 'Bangladesh' 'Belarus' 'Belgium'\n",
      " 'Bolivia' 'Bosnia and Herzegovina' 'Brazil' 'Brunei Darussalam'\n",
      " 'Bulgaria' 'Burundi' 'Cambodia' 'Cameroon' 'Canada' 'Cape Verde' 'Chile'\n",
      " 'China' 'Colombia' 'Congo, Republic of the...' 'Costa Rica' 'Croatia'\n",
      " 'Cuba' 'Cyprus' 'Czech Republic' \"Côte d'Ivoire\" 'Denmark'\n",
      " 'Dominican Republic' 'Ecuador' 'Egypt' 'El Salvador' 'Estonia' 'Ethiopia'\n",
      " 'Finland' 'France' 'Georgia' 'Germany' 'Ghana' 'Greece' 'Guatemala'\n",
      " 'Honduras' 'Hong Kong (S.A.R.)' 'Hungary' 'Iceland' 'India' 'Indonesia'\n",
      " 'Iran' 'Iraq' 'Ireland' 'Israel' 'Italy' 'Jamaica' 'Japan' 'Jordan'\n",
      " 'Kenya' 'Kuwait' 'Kyrgyzstan' 'Latvia' 'Lebanon' 'Libyan Arab Jamahiriya'\n",
      " 'Liechtenstein' 'Lithuania' 'Luxembourg' 'Malaysia' 'Malta' 'Mauritius'\n",
      " 'Mexico' 'Monaco' 'Mongolia' 'Montenegro' 'Morocco' 'Mozambique'\n",
      " 'Myanmar' 'Nepal' 'Netherlands' 'New Zealand' 'Nicaragua' 'Nigeria'\n",
      " 'Norway' 'Other Country (Not Listed Above)' 'Pakistan' 'Panama'\n",
      " 'Paraguay' 'Peru' 'Philippines' 'Poland' 'Portugal' 'Qatar'\n",
      " 'Republic of Korea' 'Republic of Moldova' 'Romania' 'Russian Federation'\n",
      " 'Rwanda' 'Saudi Arabia' 'Senegal' 'Serbia' 'Singapore' 'Slovakia'\n",
      " 'Slovenia' 'Somalia' 'South Africa' 'South Korea' 'Spain' 'Sri Lanka'\n",
      " 'Sudan' 'Swaziland' 'Sweden' 'Switzerland' 'Syrian Arab Republic'\n",
      " 'Taiwan' 'Thailand' 'The former Yugoslav Republic of Macedonia'\n",
      " 'Timor-Leste' 'Togo' 'Tunisia' 'Turkey' 'Turkmenistan' 'Uganda' 'Ukraine'\n",
      " 'United Arab Emirates' 'United Kingdom' 'United Republic of Tanzania'\n",
      " 'United States' 'Uruguay' 'Uzbekistan'\n",
      " 'Venezuela, Bolivarian Republic of...' 'Viet Nam' 'Yemen' 'Zimbabwe']\n"
     ]
    }
   ],
   "source": [
    "countries_list = df['Country'].unique()\n",
    "countries_list.sort()\n",
    "\n",
    "print(countries_list)"
   ]
  },
  {
   "cell_type": "code",
   "execution_count": null,
   "metadata": {},
   "outputs": [
    {
     "name": "stdout",
     "output_type": "stream",
     "text": [
      "Yes, Uruguay it's in the list of countries\n"
     ]
    }
   ],
   "source": [
    "countries_list = df['Country'].unique()\n",
    "\n",
    "if 'Uruguay' in countries_list:\n",
    "    print(\"Yes, Uruguay is in the list of countries\") \n",
    "else:\n",
    "    print(\"Nop, Uruguay isn't in this list.\")\n",
    "\n"
   ]
  },
  {
   "cell_type": "markdown",
   "metadata": {},
   "source": [
    "## Authors\n"
   ]
  },
  {
   "cell_type": "markdown",
   "metadata": {},
   "source": [
    "Ramesh Sannareddy\n"
   ]
  },
  {
   "cell_type": "markdown",
   "metadata": {},
   "source": [
    "### Other Contributors\n"
   ]
  },
  {
   "cell_type": "markdown",
   "metadata": {},
   "source": [
    "Rav Ahuja\n"
   ]
  },
  {
   "cell_type": "markdown",
   "metadata": {},
   "source": [
    "## Change Log\n"
   ]
  },
  {
   "cell_type": "markdown",
   "metadata": {},
   "source": [
    "| Date (YYYY-MM-DD) | Version | Changed By        | Change Description                 |\n",
    "| ----------------- | ------- | ----------------- | ---------------------------------- |\n",
    "| 2020-10-17        | 0.1     | Ramesh Sannareddy | Created initial version of the lab |\n"
   ]
  },
  {
   "cell_type": "markdown",
   "metadata": {},
   "source": [
    " Copyright © 2020 IBM Corporation. This notebook and its source code are released under the terms of the [MIT License](https://cognitiveclass.ai/mit-license?utm_medium=Exinfluencer&utm_source=Exinfluencer&utm_content=000026UJ&utm_term=10006555&utm_id=NA-SkillsNetwork-Channel-SkillsNetworkCoursesIBMDA0321ENSkillsNetwork928-2022-01-01&cm_mmc=Email_Newsletter-_-Developer_Ed%2BTech-_-WW_WW-_-SkillsNetwork-Courses-IBM-DA0321EN-SkillsNetwork-21426264&cm_mmca1=000026UJ&cm_mmca2=10006555&cm_mmca3=M12345678&cvosrc=email.Newsletter.M12345678&cvo_campaign=000026UJ).\n"
   ]
  }
 ],
 "metadata": {
  "kernelspec": {
   "display_name": "Python 3",
   "language": "python",
   "name": "python3"
  },
  "language_info": {
   "codemirror_mode": {
    "name": "ipython",
    "version": 3
   },
   "file_extension": ".py",
   "mimetype": "text/x-python",
   "name": "python",
   "nbconvert_exporter": "python",
   "pygments_lexer": "ipython3",
   "version": "3.13.0"
  }
 },
 "nbformat": 4,
 "nbformat_minor": 4
}
